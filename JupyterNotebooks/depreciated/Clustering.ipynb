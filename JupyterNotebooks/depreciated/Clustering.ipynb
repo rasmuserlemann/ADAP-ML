{
 "cells": [
  {
   "cell_type": "code",
   "execution_count": 1,
   "metadata": {},
   "outputs": [],
   "source": [
    "# This is a Jupyter Notebook to perfrom Clustering\n",
    "# Methods Currently Implemented:\n",
    "#      - K-Means Clustering (scikit-learn)\n",
    "#      - Agglomerative Hierarchical Clustering (scikit-learn)\n",
    "#\n",
    "# Author: Christopher Avery\n",
    "# Last Update: January 27, 2020"
   ]
  },
  {
   "cell_type": "code",
   "execution_count": 2,
   "metadata": {},
   "outputs": [],
   "source": [
    "import pandas as pd\n",
    "import sklearn.cluster as clst\n",
    "import sklearn.preprocessing as pre\n",
    "import supportMethods as supp"
   ]
  },
  {
   "cell_type": "code",
   "execution_count": 3,
   "metadata": {},
   "outputs": [],
   "source": [
    "# Parameters: K-means\n",
    "num_clusters = 2\n",
    "\n",
    "# Parameters: Agglomerative Hierarchical Clustering\n",
    "num_clusters_var = 5\n",
    "aff='cosine' #distance metric: {euclidean, manhattan, cosine, precomputted}\n",
    "link='average' #cluster linkage metric: {average, complete, single, ward}"
   ]
  },
  {
   "cell_type": "code",
   "execution_count": 4,
   "metadata": {},
   "outputs": [],
   "source": [
    "# Load data\n",
    "path_to_data = 'C:\\\\Users\\\\csa97\\\\Research\\\\Projects\\\\DuLab\\\\ADAP-ML\\\\adap-ml\\\\data\\\\SCLC_study_output_filtered_2.csv'\n",
    "df = pd.read_csv(path_to_data, index_col=0)\n",
    "sample_names = df.index.values.tolist()\n",
    "variable_names = df.columns.values.tolist()\n",
    "M = len(sample_names)\n",
    "N = len(variable_names)"
   ]
  },
  {
   "cell_type": "code",
   "execution_count": 5,
   "metadata": {},
   "outputs": [],
   "source": [
    "# Normalize data: Auto-Scaling\n",
    "#     - Mean Center\n",
    "#     - Uniform Variance scaling\n",
    "scaler = pre.StandardScaler().fit(df)\n",
    "df_norm = scaler.transform(df)"
   ]
  },
  {
   "cell_type": "code",
   "execution_count": 6,
   "metadata": {},
   "outputs": [
    {
     "name": "stdout",
     "output_type": "stream",
     "text": [
      "KMeans(algorithm='auto', copy_x=True, init='k-means++', max_iter=300,\n",
      "       n_clusters=2, n_init=10, n_jobs=None, precompute_distances='auto',\n",
      "       random_state=None, tol=0.0001, verbose=0)\n"
     ]
    }
   ],
   "source": [
    "# Perform K-Means Clustering\n",
    "k_means = clst.KMeans(num_clusters).fit(df_norm)\n",
    "print(k_means)"
   ]
  },
  {
   "cell_type": "code",
   "execution_count": 7,
   "metadata": {},
   "outputs": [
    {
     "name": "stdout",
     "output_type": "stream",
     "text": [
      "AgglomerativeClustering(affinity='cosine', compute_full_tree='auto',\n",
      "                        connectivity=None, distance_threshold=None,\n",
      "                        linkage='average', memory=None, n_clusters=2,\n",
      "                        pooling_func='deprecated')\n",
      "AgglomerativeClustering(affinity='cosine', compute_full_tree='auto',\n",
      "                        connectivity=None, distance_threshold=None,\n",
      "                        linkage='average', memory=None, n_clusters=5,\n",
      "                        pooling_func='deprecated')\n"
     ]
    }
   ],
   "source": [
    "# Perform Hierarchical Clustering (on samples)\n",
    "hier_clust_samp = clst.AgglomerativeClustering(n_clusters=num_clusters,\n",
    "                                      affinity=aff,\n",
    "                                      linkage=link)\n",
    "hier_clust_samp.fit(df_norm)\n",
    "print(hier_clust_samp)\n",
    "\n",
    "# Perform Hierarchical Clustering (on variables)\n",
    "hier_clust_var = clst.AgglomerativeClustering(n_clusters=num_clusters_var,\n",
    "                                      affinity=aff,\n",
    "                                      linkage=link)\n",
    "hier_clust_var.fit(df_norm.transpose())\n",
    "print(hier_clust_var)"
   ]
  },
  {
   "cell_type": "code",
   "execution_count": 8,
   "metadata": {
    "scrolled": false
   },
   "outputs": [
    {
     "name": "stdout",
     "output_type": "stream",
     "text": [
      "Clusters Of Samples Found Using K-Means Clustering:\n",
      "          Cluster 1       Cluster 2\n",
      "0      NSCLC_A549_1     SCLC_86M1_2\n",
      "1     NSCLC_H1703_2     SCLC_86M1_1\n",
      "2     NSCLC_H1703_1     SCLC_16HV_1\n",
      "3      NSCLC_A549_2     SCLC_16HV_2\n",
      "4     NSCLC_H1437_1    SCLC_DMS79_1\n",
      "5     NSCLC_H2228_1    SCLC_DMS79_2\n",
      "6     NSCLC_H2228_2     SCLC_H187_2\n",
      "7     NSCLC_H1437_2     SCLC_H187_1\n",
      "8     NSCLC_H3122_1     SCLC_H209_1\n",
      "9      NSCLC_H322_2     SCLC_H524_1\n",
      "10     NSCLC_H322_1     SCLC_H209_2\n",
      "11     NSCLC_H358_2     SCLC_H524_2\n",
      "12    NSCLC_H3122_2      SCLC_H69_1\n",
      "13     NSCLC_H522_1      SCLC_H82_1\n",
      "14     NSCLC_H522_2      SCLC_H82_2\n",
      "15  NSCLC_HCC4006_1      SCLC_H69_2\n",
      "16     NSCLC_H358_1     SCLC_N417_2\n",
      "17      NSCLC_PC9_1     SCLC_N417_1\n",
      "18      NSCLC_PC9_2  SCLC_SW210-5_1\n",
      "19  NSCLC_HCC4006_2  SCLC_SW210_5_2\n"
     ]
    }
   ],
   "source": [
    "# K-Means Results\n",
    "print(\"Clusters Of Samples Found Using K-Means Clustering:\")\n",
    "k_means_clusters = supp.getClusterResults(k_means, sample_names, num_clusters)\n",
    "print(k_means_clusters)"
   ]
  },
  {
   "cell_type": "code",
   "execution_count": 9,
   "metadata": {
    "scrolled": false
   },
   "outputs": [
    {
     "name": "stdout",
     "output_type": "stream",
     "text": [
      "Clusters Of Samples Found Using Agglomerative Clustering:\n",
      "          Cluster 1       Cluster 2\n",
      "0      NSCLC_A549_1     SCLC_86M1_2\n",
      "1     NSCLC_H1703_2     SCLC_86M1_1\n",
      "2     NSCLC_H1703_1     SCLC_16HV_1\n",
      "3      NSCLC_A549_2     SCLC_16HV_2\n",
      "4     NSCLC_H1437_1    SCLC_DMS79_1\n",
      "5     NSCLC_H2228_1    SCLC_DMS79_2\n",
      "6     NSCLC_H2228_2     SCLC_H187_2\n",
      "7     NSCLC_H1437_2     SCLC_H187_1\n",
      "8     NSCLC_H3122_1     SCLC_H209_1\n",
      "9      NSCLC_H322_2     SCLC_H524_1\n",
      "10     NSCLC_H322_1     SCLC_H209_2\n",
      "11     NSCLC_H358_2     SCLC_H524_2\n",
      "12    NSCLC_H3122_2      SCLC_H69_1\n",
      "13     NSCLC_H522_1      SCLC_H82_1\n",
      "14     NSCLC_H522_2      SCLC_H82_2\n",
      "15  NSCLC_HCC4006_1      SCLC_H69_2\n",
      "16     NSCLC_H358_1     SCLC_N417_2\n",
      "17      NSCLC_PC9_1     SCLC_N417_1\n",
      "18      NSCLC_PC9_2  SCLC_SW210-5_1\n",
      "19  NSCLC_HCC4006_2  SCLC_SW210_5_2\n",
      "\n",
      "Clusters Of Variables Found Using Agglomerative Clustering:\n",
      "  Cluster 1 Cluster 2 Cluster 3 Cluster 4 Cluster 5\n",
      "0       295      1078      1076      1162       961\n",
      "1       464      1150      1256       NaN      1000\n",
      "2      1262      1153      1259       NaN       NaN\n",
      "3      1276       NaN      1365       NaN       NaN\n",
      "4      1283       NaN      1381       NaN       NaN\n",
      "5      1414       NaN      1387       NaN       NaN\n",
      "6       NaN       NaN      1553       NaN       NaN\n"
     ]
    },
    {
     "data": {
      "image/png": "[encoded data removed]",
      "text/plain": [
       "<Figure size 1008x648 with 1 Axes>"
      ]
     },
     "metadata": {
      "needs_background": "light"
     },
     "output_type": "display_data"
    },
    {
     "data": {
      "image/png": "[encoded data removed]",
      "text/plain": [
       "<Figure size 1008x648 with 1 Axes>"
      ]
     },
     "metadata": {
      "needs_background": "light"
     },
     "output_type": "display_data"
    }
   ],
   "source": [
    "# Agglomerative Clustering Results\n",
    "print(\"Clusters Of Samples Found Using Agglomerative Clustering:\")\n",
    "hier_samp_clusters = supp.getClusterResults(hier_clust_samp, sample_names, num_clusters)\n",
    "print(hier_samp_clusters)\n",
    "#dend_samp = plt.figure()\n",
    "supp.plot_dendrogram(hier_clust_samp, sample_names)\n",
    "\n",
    "print()\n",
    "print(\"Clusters Of Variables Found Using Agglomerative Clustering:\")\n",
    "hier_var_clusters = supp.getClusterResults(hier_clust_var, variable_names, num_clusters_var)\n",
    "print(hier_var_clusters)\n",
    "#dend_var = plt.figure()\n",
    "supp.plot_dendrogram(hier_clust_var, variable_names)"
   ]
  }
 ],
 "metadata": {
  "kernelspec": {
   "display_name": "Python 3",
   "language": "python",
   "name": "python3"
  },
  "language_info": {
   "codemirror_mode": {
    "name": "ipython",
    "version": 3
   },
   "file_extension": ".py",
   "mimetype": "text/x-python",
   "name": "python",
   "nbconvert_exporter": "python",
   "pygments_lexer": "ipython3",
   "version": "3.7.3"
  }
 },
 "nbformat": 4,
 "nbformat_minor": 2
}
