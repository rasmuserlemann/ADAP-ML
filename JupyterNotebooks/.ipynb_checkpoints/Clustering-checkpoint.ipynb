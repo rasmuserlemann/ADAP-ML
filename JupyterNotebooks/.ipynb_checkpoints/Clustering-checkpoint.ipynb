{
 "cells": [
  {
   "cell_type": "code",
   "execution_count": 1,
   "metadata": {},
   "outputs": [],
   "source": [
    "import adapml_clustering\n",
    "import adapml_data"
   ]
  },
  {
   "cell_type": "markdown",
   "metadata": {},
   "source": [
    "# Read Data"
   ]
  },
  {
   "cell_type": "code",
   "execution_count": 2,
   "metadata": {},
   "outputs": [],
   "source": [
    "#path_to_data = 'C:\\\\Users\\\\csa97\\\\Research\\\\Projects\\\\DuLab\\\\ADAP-ML\\\\adap-ml\\\\data\\\\SCLC_study_output_filtered_2.csv'\n",
    "path_to_data = 'C:\\\\Users\\\\csa97\\\\Research\\\\Projects\\\\DuLab\\\\ADAP-ML\\\\adap-ml\\\\data\\\\fisher_iris.csv'\n",
    "\n",
    "data = adapml_data.DataImport(path_to_data)\n",
    "#response1D = adapml_data.DataImport.getResponse(path_to_resp);\n",
    "#response2D = adapml_data.DataImport.getDummyResponse(response1D);\n",
    "\n",
    "variables = data.getVariableNames()\n",
    "samples = data.getSampleNames()"
   ]
  },
  {
   "cell_type": "markdown",
   "metadata": {},
   "source": [
    "# Normalize Data"
   ]
  },
  {
   "cell_type": "code",
   "execution_count": 3,
   "metadata": {},
   "outputs": [],
   "source": [
    "data.normalizeData('autoscale')"
   ]
  },
  {
   "cell_type": "markdown",
   "metadata": {},
   "source": [
    "# K-Means Clustering"
   ]
  },
  {
   "cell_type": "code",
   "execution_count": 4,
   "metadata": {},
   "outputs": [],
   "source": [
    "kmeans_cluster = adapml_clustering.Clustering(data.data, 'kmeans', 3)"
   ]
  },
  {
   "cell_type": "code",
   "execution_count": 5,
   "metadata": {},
   "outputs": [
    {
     "name": "stdout",
     "output_type": "stream",
     "text": [
      "     Cluster 1 Cluster 2   Cluster 3\n",
      "0    Verginica    Setosa   Verginica\n",
      "1    Verginica    Setosa   Verginica\n",
      "2    Verginica    Setosa   Verginica\n",
      "3    Verginica    Setosa   Verginica\n",
      "4    Verginica    Setosa   Verginica\n",
      "5    Verginica    Setosa   Verginica\n",
      "6    Verginica    Setosa   Verginica\n",
      "7    Verginica    Setosa   Verginica\n",
      "8    Verginica    Setosa   Verginica\n",
      "9    Verginica    Setosa   Verginica\n",
      "10   Verginica    Setosa   Verginica\n",
      "11   Verginica    Setosa  Versicolor\n",
      "12   Verginica    Setosa  Versicolor\n",
      "13   Verginica    Setosa  Versicolor\n",
      "14   Verginica    Setosa  Versicolor\n",
      "15   Verginica    Setosa  Versicolor\n",
      "16   Verginica    Setosa  Versicolor\n",
      "17   Verginica    Setosa  Versicolor\n",
      "18   Verginica    Setosa  Versicolor\n",
      "19   Verginica    Setosa  Versicolor\n",
      "20   Verginica    Setosa  Versicolor\n",
      "21   Verginica    Setosa  Versicolor\n",
      "22   Verginica    Setosa  Versicolor\n",
      "23   Verginica    Setosa  Versicolor\n",
      "24   Verginica    Setosa  Versicolor\n",
      "25   Verginica    Setosa  Versicolor\n",
      "26   Verginica    Setosa  Versicolor\n",
      "27   Verginica    Setosa  Versicolor\n",
      "28   Verginica    Setosa  Versicolor\n",
      "29   Verginica    Setosa  Versicolor\n",
      "30   Verginica    Setosa  Versicolor\n",
      "31   Verginica    Setosa  Versicolor\n",
      "32   Verginica    Setosa  Versicolor\n",
      "33   Verginica    Setosa  Versicolor\n",
      "34   Verginica    Setosa  Versicolor\n",
      "35   Verginica    Setosa  Versicolor\n",
      "36   Verginica    Setosa  Versicolor\n",
      "37   Verginica    Setosa  Versicolor\n",
      "38   Verginica    Setosa  Versicolor\n",
      "39  Versicolor    Setosa  Versicolor\n",
      "40  Versicolor    Setosa  Versicolor\n",
      "41  Versicolor    Setosa  Versicolor\n",
      "42  Versicolor    Setosa  Versicolor\n",
      "43  Versicolor    Setosa  Versicolor\n",
      "44  Versicolor    Setosa  Versicolor\n",
      "45  Versicolor    Setosa  Versicolor\n",
      "46  Versicolor    Setosa  Versicolor\n",
      "47  Versicolor    Setosa         NaN\n",
      "48  Versicolor    Setosa         NaN\n",
      "49  Versicolor    Setosa         NaN\n",
      "50  Versicolor       NaN         NaN\n",
      "51  Versicolor       NaN         NaN\n",
      "52  Versicolor       NaN         NaN\n"
     ]
    }
   ],
   "source": [
    "kmeans_cluster.getClusterResults(samples)"
   ]
  },
  {
   "cell_type": "markdown",
   "metadata": {},
   "source": [
    "# Hierarchical Clustering"
   ]
  },
  {
   "cell_type": "code",
   "execution_count": 6,
   "metadata": {},
   "outputs": [],
   "source": [
    "hierarchical_cluster = adapml_clustering.Clustering(data.data, 'hierarchical', 3)"
   ]
  },
  {
   "cell_type": "code",
   "execution_count": 7,
   "metadata": {
    "scrolled": true
   },
   "outputs": [
    {
     "name": "stdout",
     "output_type": "stream",
     "text": [
      "    Cluster 1 Cluster 2   Cluster 3\n",
      "0      Setosa    Setosa   Verginica\n",
      "1   Verginica    Setosa   Verginica\n",
      "2   Verginica    Setosa   Verginica\n",
      "3   Verginica    Setosa   Verginica\n",
      "4   Verginica    Setosa   Verginica\n",
      "..        ...       ...         ...\n",
      "69        NaN       NaN  Versicolor\n",
      "70        NaN       NaN  Versicolor\n",
      "71        NaN       NaN  Versicolor\n",
      "72        NaN       NaN  Versicolor\n",
      "73        NaN       NaN  Versicolor\n",
      "\n",
      "[74 rows x 3 columns]\n"
     ]
    }
   ],
   "source": [
    "hierarchical_cluster.getClusterResults(samples)"
   ]
  },
  {
   "cell_type": "code",
   "execution_count": 8,
   "metadata": {},
   "outputs": [
    {
     "data": {
      "image/png": "[encoded data removed]",
      "text/plain": [
       "<Figure size 1008x648 with 1 Axes>"
      ]
     },
     "metadata": {
      "needs_background": "light"
     },
     "output_type": "display_data"
    }
   ],
   "source": [
    "hierarchical_cluster.plot_dendrogram(samples)"
   ]
  },
  {
   "cell_type": "code",
   "execution_count": null,
   "metadata": {},
   "outputs": [],
   "source": []
  }
 ],
 "metadata": {
  "kernelspec": {
   "display_name": "Python 3",
   "language": "python",
   "name": "python3"
  },
  "language_info": {
   "codemirror_mode": {
    "name": "ipython",
    "version": 3
   },
   "file_extension": ".py",
   "mimetype": "text/x-python",
   "name": "python",
   "nbconvert_exporter": "python",
   "pygments_lexer": "ipython3",
   "version": "3.7.6"
  }
 },
 "nbformat": 4,
 "nbformat_minor": 2
}
