{
 "cells": [
  {
   "cell_type": "code",
   "execution_count": 1,
   "metadata": {},
   "outputs": [],
   "source": [
    "import adapml_chemometrics\n",
    "import adapml_data"
   ]
  },
  {
   "cell_type": "markdown",
   "metadata": {},
   "source": [
    "# Read Data"
   ]
  },
  {
   "cell_type": "code",
   "execution_count": 2,
   "metadata": {
    "scrolled": true
   },
   "outputs": [
    {
     "ename": "NameError",
     "evalue": "name 'adapml' is not defined",
     "output_type": "error",
     "traceback": [
      "\u001b[1;31m---------------------------------------------------------------------------\u001b[0m",
      "\u001b[1;31mNameError\u001b[0m                                 Traceback (most recent call last)",
      "\u001b[1;32m<ipython-input-2-a884cc73f7c5>\u001b[0m in \u001b[0;36m<module>\u001b[1;34m\u001b[0m\n\u001b[0;32m      2\u001b[0m \u001b[0mpath_to_resp\u001b[0m \u001b[1;33m=\u001b[0m \u001b[1;34m'C:\\\\Users\\\\csa97\\\\Research\\\\Projects\\\\DuLab\\\\ADAP-ML\\\\adap-ml\\\\data\\\\SCLC_study_responses_2.csv'\u001b[0m\u001b[1;33m\u001b[0m\u001b[1;33m\u001b[0m\u001b[0m\n\u001b[0;32m      3\u001b[0m \u001b[1;33m\u001b[0m\u001b[0m\n\u001b[1;32m----> 4\u001b[1;33m \u001b[0mdata\u001b[0m \u001b[1;33m=\u001b[0m \u001b[0madapml\u001b[0m\u001b[1;33m.\u001b[0m\u001b[0mDataImport\u001b[0m\u001b[1;33m(\u001b[0m\u001b[0mpath_to_data\u001b[0m\u001b[1;33m)\u001b[0m\u001b[1;33m\u001b[0m\u001b[1;33m\u001b[0m\u001b[0m\n\u001b[0m\u001b[0;32m      5\u001b[0m \u001b[0mresponse1D\u001b[0m \u001b[1;33m=\u001b[0m \u001b[0madapml_data\u001b[0m\u001b[1;33m.\u001b[0m\u001b[0mDataImport\u001b[0m\u001b[1;33m.\u001b[0m\u001b[0mgetResponse\u001b[0m\u001b[1;33m(\u001b[0m\u001b[0mpath_to_resp\u001b[0m\u001b[1;33m)\u001b[0m\u001b[1;33m;\u001b[0m\u001b[1;33m\u001b[0m\u001b[1;33m\u001b[0m\u001b[0m\n\u001b[0;32m      6\u001b[0m \u001b[0mresponse2D\u001b[0m \u001b[1;33m=\u001b[0m \u001b[0madapml_data\u001b[0m\u001b[1;33m.\u001b[0m\u001b[0mDataImport\u001b[0m\u001b[1;33m.\u001b[0m\u001b[0mgetDummyResponse\u001b[0m\u001b[1;33m(\u001b[0m\u001b[0mresponse1D\u001b[0m\u001b[1;33m)\u001b[0m\u001b[1;33m;\u001b[0m\u001b[1;33m\u001b[0m\u001b[1;33m\u001b[0m\u001b[0m\n",
      "\u001b[1;31mNameError\u001b[0m: name 'adapml' is not defined"
     ]
    }
   ],
   "source": [
    "path_to_data = 'C:\\\\Users\\\\csa97\\\\Research\\\\Projects\\\\DuLab\\\\ADAP-ML\\\\adap-ml\\\\data\\\\SCLC_study_output_filtered_2.csv'\n",
    "path_to_resp = 'C:\\\\Users\\\\csa97\\\\Research\\\\Projects\\\\DuLab\\\\ADAP-ML\\\\adap-ml\\\\data\\\\SCLC_study_responses_2.csv'\n",
    "\n",
    "data = adapml_data.DataImport(path_to_data)\n",
    "response1D = adapml_data.DataImport.getResponse(path_to_resp);\n",
    "response2D = adapml_data.DataImport.getDummyResponse(response1D);\n",
    "\n",
    "variables = data.getVariableNames()\n",
    "samples = data.getSampleNames()\n"
   ]
  },
  {
   "cell_type": "markdown",
   "metadata": {},
   "source": [
    "# Normalize Data"
   ]
  },
  {
   "cell_type": "code",
   "execution_count": null,
   "metadata": {},
   "outputs": [],
   "source": [
    "data.normalizeData()"
   ]
  },
  {
   "cell_type": "markdown",
   "metadata": {},
   "source": [
    "# Principal Component Analysis"
   ]
  },
  {
   "cell_type": "code",
   "execution_count": null,
   "metadata": {},
   "outputs": [],
   "source": [
    "pca = adapml_chemometrics.Chemometrics(data.data, \"pca\", response2D)"
   ]
  },
  {
   "cell_type": "code",
   "execution_count": null,
   "metadata": {},
   "outputs": [],
   "source": [
    "pca.plotScree(num_modes=19)"
   ]
  },
  {
   "cell_type": "code",
   "execution_count": null,
   "metadata": {},
   "outputs": [],
   "source": [
    "pca.plotProjectionScatterMultiClass(2, labels=[\"Healthy\", \"Not Healthy\"])"
   ]
  },
  {
   "cell_type": "code",
   "execution_count": null,
   "metadata": {},
   "outputs": [],
   "source": [
    "pca.plotVectorLoadings(variables, 2)"
   ]
  },
  {
   "cell_type": "markdown",
   "metadata": {},
   "source": [
    "# Partial Least Squares - Discriminant Analysis"
   ]
  },
  {
   "cell_type": "code",
   "execution_count": null,
   "metadata": {},
   "outputs": [],
   "source": [
    "plsda = adapml_chemometrics.Chemometrics(data.data, \"pls-da\", response2D, kfolds=10)"
   ]
  },
  {
   "cell_type": "code",
   "execution_count": null,
   "metadata": {},
   "outputs": [],
   "source": [
    "plsda.plotProjectionScatterMultiClass(2, labels=[\"Healthy\", \"Not Healthy\"])"
   ]
  },
  {
   "cell_type": "code",
   "execution_count": null,
   "metadata": {},
   "outputs": [],
   "source": [
    "plsda.plotVectorLoadings(variables, 1)"
   ]
  },
  {
   "cell_type": "code",
   "execution_count": null,
   "metadata": {},
   "outputs": [],
   "source": [
    "plsda.plotVIP(variables)"
   ]
  },
  {
   "cell_type": "markdown",
   "metadata": {},
   "source": [
    "# Orthogonal Projections to Latent Spaces"
   ]
  },
  {
   "cell_type": "code",
   "execution_count": null,
   "metadata": {},
   "outputs": [],
   "source": [
    "opls = adapml_chemometrics.Chemometrics(data.data, \"opls\", response1D, kfolds=10, num_comp=2)"
   ]
  },
  {
   "cell_type": "code",
   "execution_count": null,
   "metadata": {},
   "outputs": [],
   "source": [
    "opls.plotProjectionScatterMultiClass(2, labels=[\"Healthy\", \"Not Healthy\"])"
   ]
  },
  {
   "cell_type": "code",
   "execution_count": null,
   "metadata": {
    "scrolled": false
   },
   "outputs": [],
   "source": [
    "opls.plotVectorLoadings(variables, 1)\n",
    "plsda.plotVectorLoadings(variables, 1)"
   ]
  },
  {
   "cell_type": "code",
   "execution_count": null,
   "metadata": {},
   "outputs": [],
   "source": [
    "opls.plotVIP(variables)\n",
    "plsda.plotVIP(variables)"
   ]
  },
  {
   "cell_type": "markdown",
   "metadata": {},
   "source": [
    "# Linear Discriminant Anlaysis"
   ]
  },
  {
   "cell_type": "code",
   "execution_count": null,
   "metadata": {},
   "outputs": [],
   "source": [
    "lda = adapml_chemometrics.Chemometrics(data.data, \"lda\", response1D)"
   ]
  },
  {
   "cell_type": "code",
   "execution_count": null,
   "metadata": {},
   "outputs": [],
   "source": [
    "lda.plotProjectionScatterMultiClass(1, response=response2D, labels=[\"Healthy\", \"Not Healthy\"])"
   ]
  },
  {
   "cell_type": "code",
   "execution_count": null,
   "metadata": {
    "scrolled": false
   },
   "outputs": [],
   "source": [
    "lda.plotVectorLoadings(variables, 1)"
   ]
  },
  {
   "cell_type": "code",
   "execution_count": null,
   "metadata": {},
   "outputs": [],
   "source": []
  }
 ],
 "metadata": {
  "kernelspec": {
   "display_name": "Python 3",
   "language": "python",
   "name": "python3"
  },
  "language_info": {
   "codemirror_mode": {
    "name": "ipython",
    "version": 3
   },
   "file_extension": ".py",
   "mimetype": "text/x-python",
   "name": "python",
   "nbconvert_exporter": "python",
   "pygments_lexer": "ipython3",
   "version": "3.7.3"
  }
 },
 "nbformat": 4,
 "nbformat_minor": 2
}
