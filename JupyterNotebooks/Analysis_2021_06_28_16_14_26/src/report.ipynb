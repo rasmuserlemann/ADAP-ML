{
 "cells": [
  {
   "cell_type": "markdown",
   "id": "89baa688",
   "metadata": {},
   "source": [
    "# ADAP-ML Report\n",
    "\n",
    "T-test and volcano plot\n"
   ]
  },
  {
   "cell_type": "code",
   "execution_count": null,
   "id": "b4c67a32",
   "metadata": {},
   "outputs": [],
   "source": [
    "import adapml_data\n",
    "import adapml_classification\n",
    "import adapml_chemometrics\n",
    "import adapml_statistics\n",
    "import numpy as np\n",
    "import loadTestData as load_data\n",
    "import sklearn.preprocessing as pre\n",
    "from sklearn.cross_decomposition import PLSRegression as PLS\n",
    "from matplotlib import pyplot as plt\n",
    "import os\n",
    "\n",
    "\n",
    "reldir = os.getcwd()\n",
    "path_to_data = os.path.join(reldir, '..', 'data', 'SCLC_study_output_filtered_2.csv')\n",
    "path_to_resp = os.path.join(reldir, '..', 'data', 'SCLC_study_responses_2.csv')\n",
    "\n",
    "data = adapml_data.DataImport(path_to_data)\n",
    "response1D = adapml_data.DataImport.getResponse(path_to_resp)\n",
    "response2D = adapml_data.DataImport.getDummyResponse(response1D)\n",
    "\n",
    "variables = data.getVariableNames()\n",
    "samples = data.getSampleNames()\n",
    "\n",
    "t_test = adapml_statistics.Statistics(data.data, 'anova', response1D)\n",
    "t_test.plot_logp_values(variables)\n",
    "t_test.plot_volcano_t(variables)\n",
    "\n",
    "\n"
   ]
  },
  {
   "cell_type": "markdown",
   "id": "64ccea83",
   "metadata": {},
   "source": [
    "# PCA\n",
    "blabla"
   ]
  },
  {
   "cell_type": "code",
   "execution_count": null,
   "id": "7fb2bb32",
   "metadata": {},
   "outputs": [],
   "source": [
    "data.normalizeData(\"autoscale\")\n",
    "\n",
    "pca = adapml_chemometrics.Chemometrics(data.data, \"pca\", response1D)\n",
    "\n",
    "print(\"PCA Projections\");pca.plotProjectionScatterMultiClass(2, labels=[\"Healthy\", \"Not Healthy\"])\n",
    "\n"
   ]
  },
  {
   "cell_type": "markdown",
   "id": "3a783be4",
   "metadata": {},
   "source": [
    "# PLS-DA\n"
   ]
  },
  {
   "cell_type": "code",
   "execution_count": null,
   "id": "1179774c",
   "metadata": {},
   "outputs": [],
   "source": [
    "def plotProjectionScatterMultiClass(pc, resp, num_var):\n",
    "    plt.figure(figsize=(24, 18))\n",
    "\n",
    "    for i in range(num_var):\n",
    "        for j in range(num_var):\n",
    "            plt.subplot(5,5,5*(i) + j + 1)\n",
    "            for c in range(resp.shape[1]):\n",
    "                inx = np.where(resp[:,c] == 1)[0]\n",
    "                tmp = pc[inx,:]\n",
    "                pc1 = tmp[:,i]\n",
    "                pc2 = tmp[:,j]\n",
    "                plt.scatter(pc1, pc2)\n",
    "            plt.xlabel(\"PLS Component \"+str(i+1))\n",
    "            plt.ylabel(\"PLS Component \"+str(j+1))\n",
    "\n",
    "    plt.show()\n",
    "\n",
    "data = load_data.loadDataPandas(path_to_data)\n",
    "d = data.to_numpy()\n",
    "var_index = data.columns.values.tolist()\n",
    "\n",
    "resp = load_data.getResponseMatrix2D()\n",
    "\n",
    "norm_trans = pre.StandardScaler().fit(d)\n",
    "data_norm = norm_trans.transform(d)\n",
    "#data_norm, norm_trans = pre.mean_center(d)\n",
    "#In-built preprocessing method - TBD\n",
    "\n",
    "pls = PLS().fit(data_norm, resp)\n",
    "pls_trans = pls.transform(data_norm)\n",
    "\n",
    "plotProjectionScatterMultiClass(pls_trans, resp, 2)\n"
   ]
  }
 ],
 "metadata": {},
 "nbformat": 4,
 "nbformat_minor": 5
}
