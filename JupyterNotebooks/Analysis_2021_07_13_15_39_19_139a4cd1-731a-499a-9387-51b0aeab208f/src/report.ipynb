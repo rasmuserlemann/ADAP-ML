{
 "cells": [
  {
   "cell_type": "markdown",
   "id": "dd2439ed",
   "metadata": {},
   "source": [
    "% ADAP-ML Report\n"
   ]
  },
  {
   "cell_type": "markdown",
   "id": "a819c50c",
   "metadata": {},
   "source": [
    "# Statistics\n",
    "\n",
    "T-test\n"
   ]
  },
  {
   "cell_type": "code",
   "execution_count": null,
   "id": "578ecada",
   "metadata": {},
   "outputs": [],
   "source": [
    "import modules.adapml_data as adapml_data\n",
    "import modules.adapml_classification as adapml_classification\n",
    "import modules.adapml_clustering as adapml_clustering\n",
    "import modules.adapml_chemometrics as adapml_chemometrics\n",
    "import modules.adapml_statistics as adapml_statistics\n",
    "import modules.adapml_regression as adapml_regression\n",
    "import numpy as np\n",
    "import modules.loadTestData as load_data\n",
    "import sklearn.preprocessing as pre\n",
    "from sklearn.cross_decomposition import PLSRegression as PLS\n",
    "from matplotlib import pyplot as plt\n",
    "from sklearn import cluster as clst\n",
    "from scipy.cluster.hierarchy import dendrogram\n",
    "\n",
    "import os\n",
    "\n",
    "reldir = os.getcwd()\n",
    "path_to_data = os.path.join(reldir, '..', 'data', 'SCLC_study_output_filtered_2.csv')\n",
    "\n",
    "data = adapml_data.DataImport(path_to_data)\n",
    "\n",
    "response1D = data.resp\n",
    "#response1D = adapml_data.DataImport.getResponse(path_to_data)\n",
    "response2D = adapml_data.DataImport.getDummyResponse(response1D)\n",
    "\n",
    "variables = data.getVariableNames()\n",
    "samples = data.getSampleNames()\n",
    "\n",
    "t_test = adapml_statistics.Statistics(data.data, 'anova', response1D)\n",
    "t_test.plot_logp_values(variables)\n",
    "t_test.plot_volcano_t(variables)\n",
    "\n",
    "\n"
   ]
  },
  {
   "cell_type": "markdown",
   "id": "ceb2bfd0",
   "metadata": {},
   "source": [
    "# Dimension-Reduction\n",
    "\n",
    "PCA, LDA\n"
   ]
  },
  {
   "cell_type": "code",
   "execution_count": null,
   "id": "f5135f73",
   "metadata": {},
   "outputs": [],
   "source": [
    "data.normalizeData(\"autoscale\")\n",
    "\n",
    "pca = adapml_chemometrics.Chemometrics(data.data, \"pca\", response1D)\n",
    "lda = adapml_chemometrics.Chemometrics(data.data, \"lda\", response1D) # Also Predicts\n",
    "\n",
    "print(\"PCA Projections\");pca.plotProjectionScatterMultiClass(2, labels=[\"Healthy\", \"Not Healthy\"])\n",
    "print(\"LDA Projections\");lda.plotProjectionScatterMultiClass(1, labels=[\"Healthy\", \"Not Healthy\"])\n",
    "\n",
    "print(\"PCA Vectors\"); pca.plotVectorLoadings(variables, 1)\n",
    "print(\"LDA Vectors\"); lda.plotVectorLoadings(variables, 1)\n"
   ]
  },
  {
   "cell_type": "markdown",
   "id": "c0352dfb",
   "metadata": {},
   "source": [
    "# Clustering\n",
    "\n",
    "K-means, hierarchical,\n",
    "\n"
   ]
  },
  {
   "cell_type": "code",
   "execution_count": null,
   "id": "def11b45",
   "metadata": {},
   "outputs": [],
   "source": [
    "kmeans_cluster = adapml_clustering.Clustering(data.data, 'kmeans', 3)\n",
    "kmeans_cluster.getClusterResults(samples)\n",
    "\n",
    "hierarchical_cluster = adapml_clustering.Clustering(data.data, 'hierarchical', 3)\n",
    "hierarchical_cluster.getClusterResults(samples)\n",
    "hierarchical_cluster.plot_dendrogram(samples)\n",
    "\n",
    "\n"
   ]
  },
  {
   "cell_type": "markdown",
   "id": "33080fd5",
   "metadata": {},
   "source": [
    "# Classification\n",
    "\n",
    "PLS-DA, SVM, random forests, logstic regression\n",
    "\n"
   ]
  },
  {
   "cell_type": "code",
   "execution_count": null,
   "id": "92cebe03",
   "metadata": {},
   "outputs": [],
   "source": [
    "def plotProjectionScatterMultiClass(pc, resp, num_var):\n",
    "    plt.figure(figsize=(24, 18))\n",
    "\n",
    "    for i in range(num_var):\n",
    "        for j in range(num_var):\n",
    "            plt.subplot(5,5,5*(i) + j + 1)\n",
    "            for c in range(resp.shape[1]):\n",
    "                inx = np.where(resp[:,c] == 1)[0]\n",
    "                tmp = pc[inx,:]\n",
    "                pc1 = tmp[:,i]\n",
    "                pc2 = tmp[:,j]\n",
    "                plt.scatter(pc1, pc2)\n",
    "            plt.xlabel(\"PLS Component \"+str(i+1))\n",
    "            plt.ylabel(\"PLS Component \"+str(j+1))\n",
    "\n",
    "    plt.show()\n",
    "\n",
    "data = load_data.loadDataPandas(path_to_data)\n",
    "d = data.to_numpy()\n",
    "var_index = data.columns.values.tolist()\n",
    "\n",
    "resp = load_data.getResponseMatrix2D()\n",
    "\n",
    "norm_trans = pre.StandardScaler().fit(d)\n",
    "data_norm = norm_trans.transform(d)\n",
    "#data_norm, norm_trans = pre.mean_center(d)\n",
    "#In-built preprocessing method - TBD\n",
    "\n",
    "pls = PLS().fit(data_norm, resp)\n",
    "pls_trans = pls.transform(data_norm)\n",
    "\n",
    "plotProjectionScatterMultiClass(pls_trans, resp, 2)\n",
    "\n",
    "\n",
    "data = adapml_data.DataImport(path_to_data)\n",
    "svm = adapml_classification.Classification(data.data, response1D, 'svm', .75, kfolds=3)\n",
    "rnf = adapml_classification.Classification(data.data, response1D, 'randomforest', .75, kfolds=3)\n",
    "\n",
    "\n",
    "adapml_classification.print_model_stats(svm, \"SVM\")\n",
    "adapml_classification.print_model_stats(rnf, \"RF\")\n",
    "\n",
    "logistic = adapml_classification.Classification(data.data, response1D, 'logistic', .25)\n",
    "print(logistic)\n"
   ]
  },
  {
   "cell_type": "markdown",
   "id": "804bbd28",
   "metadata": {},
   "source": [
    "# Regression\n",
    "\n",
    "Linear regression\n",
    "\n"
   ]
  },
  {
   "cell_type": "code",
   "execution_count": null,
   "id": "0ea9cfcb",
   "metadata": {},
   "outputs": [],
   "source": [
    "reg = adapml_regression.Regression(data.data, \"linear\")\n",
    "reg.linear\n"
   ]
  }
 ],
 "metadata": {},
 "nbformat": 4,
 "nbformat_minor": 5
}
