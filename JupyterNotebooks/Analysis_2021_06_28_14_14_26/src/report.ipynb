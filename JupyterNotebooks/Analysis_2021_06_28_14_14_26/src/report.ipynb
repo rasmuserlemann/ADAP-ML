{
 "cells": [
  {
   "cell_type": "markdown",
   "id": "f5afc5fc",
   "metadata": {},
   "source": [
    "# ADAP-ML Report\n",
    "\n",
    "T-test and volcano plot\n"
   ]
  },
  {
   "cell_type": "code",
   "execution_count": null,
   "id": "b4c34afe",
   "metadata": {},
   "outputs": [],
   "source": [
    "import adapml_data\n",
    "import adapml_classification\n",
    "import adapml_chemometrics\n",
    "import adapml_statistics\n",
    "import numpy as np\n",
    "import loadTestData as load_data\n",
    "import sklearn.preprocessing as pre\n",
    "from sklearn.cross_decomposition import PLSRegression as PLS\n",
    "from matplotlib import pyplot as plt\n",
    "import os\n",
    "\n",
    "\n",
    "reldir = os.getcwd()\n",
    "path_to_data = os.path.join(reldir, '..', 'data', 'SCLC_study_output_filtered_2.csv')\n",
    "path_to_resp = os.path.join(reldir, '..', 'data', 'SCLC_study_responses_2.csv')\n",
    "\n",
    "data = adapml_data.DataImport(path_to_data)\n",
    "response1D = adapml_data.DataImport.getResponse(path_to_resp)\n",
    "response2D = adapml_data.DataImport.getDummyResponse(response1D)\n",
    "\n",
    "variables = data.getVariableNames()\n",
    "samples = data.getSampleNames()\n",
    "\n",
    "t_test = adapml_statistics.Statistics(data.data, 'anova', response1D)\n",
    "t_test.plot_logp_values(variables)\n",
    "t_test.plot_volcano_t(variables)\n",
    "\n",
    "\n"
   ]
  },
  {
   "cell_type": "markdown",
   "id": "0485523a",
   "metadata": {},
   "source": [
    "# PCA\n",
    "blabla"
   ]
  },
  {
   "cell_type": "code",
   "execution_count": null,
   "id": "20da2271",
   "metadata": {},
   "outputs": [],
   "source": [
    "data.normalizeData(\"autoscale\")\n",
    "\n",
    "pca = adapml_chemometrics.Chemometrics(data.data, \"pca\", response1D)\n",
    "pls = adapml_chemometrics.Chemometrics(data.data, \"pls-da\", response1D, kfolds=10, num_comp=2) # Also Predicts\n",
    "opls = adapml_chemometrics.Chemometrics(data.data, \"opls\", response1D, kfolds=10, num_comp=2, opls_comp=16) # Also Predicts\n",
    "lda = adapml_chemometrics.Chemometrics(data.data, \"lda\", response1D) # Also Predicts\n",
    "\n",
    "print(\"PCA Projections\");pca.plotProjectionScatterMultiClass(2, labels=[\"Healthy\", \"Not Healthy\"])\n"
   ]
  }
 ],
 "metadata": {},
 "nbformat": 4,
 "nbformat_minor": 5
}
