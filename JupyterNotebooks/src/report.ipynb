{
 "cells": [
  {
   "cell_type": "markdown",
   "id": "4b2ef2e7",
   "metadata": {},
   "source": [
    "# ADAP-ML Report\n",
    "\n",
    "T-test and volcano plot\n"
   ]
  },
  {
   "cell_type": "code",
   "execution_count": null,
   "id": "23deb532",
   "metadata": {},
   "outputs": [],
   "source": [
    "import adapml_data\n",
    "import adapml_classification\n",
    "import adapml_chemometrics\n",
    "import adapml_statistics\n",
    "import numpy as np\n",
    "import loadTestData as load_data\n",
    "import sklearn.preprocessing as pre\n",
    "from sklearn.cross_decomposition import PLSRegression as PLS\n",
    "from matplotlib import pyplot as plt\n",
    "import os\n",
    "\n",
    "\n",
    "reldir = os.getcwd()\n",
    "path_to_data = os.path.join(reldir, 'data', 'SCLC_study_output_filtered_2.csv')\n",
    "path_to_resp = os.path.join(reldir, 'data', 'SCLC_study_responses_2.csv')\n",
    "\n",
    "data = adapml_data.DataImport(path_to_data)\n",
    "response1D = adapml_data.DataImport.getResponse(path_to_resp)\n",
    "response2D = adapml_data.DataImport.getDummyResponse(response1D)\n",
    "\n",
    "variables = data.getVariableNames()\n",
    "samples = data.getSampleNames()\n",
    "\n",
    "t_test = adapml_statistics.Statistics(data.data, 'anova', response1D)\n",
    "t_test.plot_logp_values(variables)\n",
    "t_test.plot_volcano_t(variables)\n",
    "\n",
    "\n"
   ]
  }
 ],
 "metadata": {},
 "nbformat": 4,
 "nbformat_minor": 5
}
